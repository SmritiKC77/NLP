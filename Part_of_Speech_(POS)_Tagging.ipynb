{
  "nbformat": 4,
  "nbformat_minor": 0,
  "metadata": {
    "colab": {
      "provenance": []
    },
    "kernelspec": {
      "name": "python3",
      "display_name": "Python 3"
    },
    "language_info": {
      "name": "python"
    }
  },
  "cells": [
    {
      "cell_type": "markdown",
      "source": [
        "POS is a advance preprocessing step in NLP where each word in a sentence is labelled with appropriate part of speech."
      ],
      "metadata": {
        "id": "eQ9wVYV4yMqD"
      }
    },
    {
      "cell_type": "code",
      "execution_count": 1,
      "metadata": {
        "id": "J9NgfOBuztla"
      },
      "outputs": [],
      "source": [
        "import spacy\n"
      ]
    },
    {
      "cell_type": "code",
      "source": [
        "nlp = spacy.load('en_core_web_sm')"
      ],
      "metadata": {
        "id": "kT74UOVEz-67"
      },
      "execution_count": 2,
      "outputs": []
    },
    {
      "cell_type": "code",
      "source": [
        "doc1 = nlp(\"I will study my new book tonight\")"
      ],
      "metadata": {
        "id": "ytOvCClM0jYl"
      },
      "execution_count": 5,
      "outputs": []
    },
    {
      "cell_type": "code",
      "source": [
        "doc1[-1]"
      ],
      "metadata": {
        "colab": {
          "base_uri": "https://localhost:8080/"
        },
        "id": "fzbj5C2axOyP",
        "outputId": "d6eeaffe-35b2-48b5-fd0f-55876a53d796"
      },
      "execution_count": 4,
      "outputs": [
        {
          "output_type": "execute_result",
          "data": {
            "text/plain": [
              "tonight"
            ]
          },
          "metadata": {},
          "execution_count": 4
        }
      ]
    },
    {
      "cell_type": "code",
      "source": [
        "doc1[2]"
      ],
      "metadata": {
        "colab": {
          "base_uri": "https://localhost:8080/"
        },
        "id": "oO-CgO-SxpbV",
        "outputId": "57b309fe-bbb5-48d4-f891-b4b784758097"
      },
      "execution_count": 7,
      "outputs": [
        {
          "output_type": "execute_result",
          "data": {
            "text/plain": [
              "study"
            ]
          },
          "metadata": {},
          "execution_count": 7
        }
      ]
    },
    {
      "cell_type": "code",
      "source": [
        "doc1[2].pos_"
      ],
      "metadata": {
        "colab": {
          "base_uri": "https://localhost:8080/",
          "height": 36
        },
        "id": "efSeIxqIxs8W",
        "outputId": "a87fc466-aa0d-458b-e531-9ed378148eae"
      },
      "execution_count": 8,
      "outputs": [
        {
          "output_type": "execute_result",
          "data": {
            "text/plain": [
              "'VERB'"
            ],
            "application/vnd.google.colaboratory.intrinsic+json": {
              "type": "string"
            }
          },
          "metadata": {},
          "execution_count": 8
        }
      ]
    },
    {
      "cell_type": "code",
      "source": [
        "doc1[2].tag_"
      ],
      "metadata": {
        "colab": {
          "base_uri": "https://localhost:8080/",
          "height": 36
        },
        "id": "8KhuvTl8xyDv",
        "outputId": "7c1771fc-791f-4035-937a-dd1344ba5f45"
      },
      "execution_count": 10,
      "outputs": [
        {
          "output_type": "execute_result",
          "data": {
            "text/plain": [
              "'VB'"
            ],
            "application/vnd.google.colaboratory.intrinsic+json": {
              "type": "string"
            }
          },
          "metadata": {},
          "execution_count": 10
        }
      ]
    },
    {
      "cell_type": "code",
      "source": [
        "for word in doc1:\n",
        "    print(word.text,\"------>\", word.pos_,word.tag_,spacy.explain(word.tag_))"
      ],
      "metadata": {
        "colab": {
          "base_uri": "https://localhost:8080/"
        },
        "id": "0Wdx0OTVx1K_",
        "outputId": "99779845-bc49-4241-8055-da515e9a8866"
      },
      "execution_count": 11,
      "outputs": [
        {
          "output_type": "stream",
          "name": "stdout",
          "text": [
            "I ------> PRON PRP pronoun, personal\n",
            "will ------> AUX MD verb, modal auxiliary\n",
            "study ------> VERB VB verb, base form\n",
            "my ------> PRON PRP$ pronoun, possessive\n",
            "new ------> ADJ JJ adjective (English), other noun-modifier (Chinese)\n",
            "book ------> NOUN NN noun, singular or mass\n",
            "tonight ------> NOUN NN noun, singular or mass\n"
          ]
        }
      ]
    },
    {
      "cell_type": "code",
      "source": [
        "doc2 = nlp(u\"I read books on history\")\n",
        "for word in doc2:\n",
        "    print(word.text,\"------>\", word.pos_,word.tag_,spacy.explain(word.tag_))"
      ],
      "metadata": {
        "colab": {
          "base_uri": "https://localhost:8080/"
        },
        "id": "Pmb-p3ezyEQv",
        "outputId": "8881f713-0e24-4d67-f679-2f2c3cac327d"
      },
      "execution_count": 15,
      "outputs": [
        {
          "output_type": "stream",
          "name": "stdout",
          "text": [
            "I ------> PRON PRP pronoun, personal\n",
            "read ------> VERB VBP verb, non-3rd person singular present\n",
            "books ------> NOUN NNS noun, plural\n",
            "on ------> ADP IN conjunction, subordinating or preposition\n",
            "history ------> NOUN NN noun, singular or mass\n"
          ]
        }
      ]
    },
    {
      "cell_type": "code",
      "source": [
        "doc3 = nlp(u\"I have read a book on history\")\n",
        "for word in doc3:\n",
        "    print(word.text,\"------>\", word.pos_,word.tag_,spacy.explain(word.tag_))"
      ],
      "metadata": {
        "colab": {
          "base_uri": "https://localhost:8080/"
        },
        "id": "1-M_j-xAywZ6",
        "outputId": "f5efa233-73c7-4689-e274-a3e9af112ffc"
      },
      "execution_count": 17,
      "outputs": [
        {
          "output_type": "stream",
          "name": "stdout",
          "text": [
            "I ------> PRON PRP pronoun, personal\n",
            "have ------> AUX VBP verb, non-3rd person singular present\n",
            "read ------> VERB VBN verb, past participle\n",
            "a ------> DET DT determiner\n",
            "book ------> NOUN NN noun, singular or mass\n",
            "on ------> ADP IN conjunction, subordinating or preposition\n",
            "history ------> NOUN NN noun, singular or mass\n"
          ]
        }
      ]
    },
    {
      "cell_type": "markdown",
      "source": [
        "It can be observed that the word read in doc2 and doc3 is used differently.We can see how the essence is captured perfectly and the part of speech is assigned differently."
      ],
      "metadata": {
        "id": "jHAe4ryxzTi3"
      }
    },
    {
      "cell_type": "code",
      "source": [],
      "metadata": {
        "id": "K0aXU8QXy_fN"
      },
      "execution_count": null,
      "outputs": []
    }
  ]
}