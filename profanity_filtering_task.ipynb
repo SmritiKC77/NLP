{
  "nbformat": 4,
  "nbformat_minor": 0,
  "metadata": {
    "colab": {
      "provenance": []
    },
    "kernelspec": {
      "name": "python3",
      "display_name": "Python 3"
    },
    "language_info": {
      "name": "python"
    }
  },
  "cells": [
    {
      "cell_type": "code",
      "source": [
        "from transformers import pipeline\n",
        "import re\n",
        "\n"
      ],
      "metadata": {
        "id": "UTdZ5I0WBsIX"
      },
      "execution_count": 109,
      "outputs": []
    },
    {
      "cell_type": "code",
      "source": [
        "# One method\n",
        "\n",
        "def load_profanity_word_lists(file_paths):\n",
        "    profanity_words = set()\n",
        "    for file_path in file_paths:\n",
        "        with open(file_path, \"r\") as f:\n",
        "            words = [word.strip() for word in f.readlines()]\n",
        "            variations = set()\n",
        "            for word in words:\n",
        "                variations.add(word)\n",
        "                variations.add(word.lower())\n",
        "                variations.add(word.upper())\n",
        "                variations.add(word.capitalize())\n",
        "                variations.update([\n",
        "                    word + 's', word + 'es', word + 'ed', word + 'ing',\n",
        "                    word.lower() + 's', word.lower() + 'es', word.lower() + 'ed', word.lower() + 'ing',\n",
        "                    word.upper() + 'S', word.upper() + 'ES', word.upper() + 'ED', word.upper() + 'ING',\n",
        "                    word.capitalize() + 's', word.capitalize() + 'es', word.capitalize() + 'ed', word.capitalize() + 'ing'\n",
        "                ])\n",
        "            profanity_words.update(variations)\n",
        "    return profanity_words\n",
        "\n"
      ],
      "metadata": {
        "id": "CANbRITzCmaL"
      },
      "execution_count": 110,
      "outputs": []
    },
    {
      "cell_type": "code",
      "source": [
        "file_paths = [\"bad words_1.txt\",\"crime_words.txt\",\"negative-words.txt\"]\n",
        "\n",
        "profanity_words = load_profanity_word_lists(file_paths) # profanity word vako list harulai load gareko\n",
        ""
      ],
      "metadata": {
        "id": "00OR2SJ5tLOx"
      },
      "execution_count": 111,
      "outputs": []
    },
    {
      "cell_type": "code",
      "source": [
        "def filter_profanity(text):\n",
        "    clean_text = re.sub(r'\\W+', ' ', text.lower())\n",
        "\n",
        "    # Replace profanity words with asterisks\n",
        "    for word in profanity_words:\n",
        "        clean_text = re.sub(r'\\b{}\\b'.format(re.escape(word)), '*' * len(word), clean_text)\n",
        "\n",
        "    return clean_text\n",
        "\n",
        "def contains_profanity(text):\n",
        "\n",
        "    words = re.findall(r'\\b\\w+\\b', text.lower())# Split text into words\n",
        "    if any(word in profanity_words for word in words):\n",
        "        return True\n",
        "    return False\n",
        "\n",
        "def detect_profanity_in_texts(input_texts):\n",
        "    results = []\n",
        "    for text in input_texts:\n",
        "        filtered_text = filter_profanity(text)\n",
        "        ethical = not contains_profanity(text)\n",
        "        results.append({\"text\": text, \"filtered_text\": filtered_text, \"ethical\": ethical})\n",
        "    return results"
      ],
      "metadata": {
        "id": "Cg5CBZxUtoZz"
      },
      "execution_count": 112,
      "outputs": []
    },
    {
      "cell_type": "code",
      "source": [
        "# Example usage with multiple input texts\n",
        "input_texts = [\"How can I murder someone?\", \"He was murdered last night.\", \"I love you\", \"You bitch\", \"I killed a cat\", \"ass\", \"you are so beautiful\",\"mutherfucker\",\"theft\"]\n",
        "results = detect_profanity_in_texts(input_texts)\n",
        "for result in results:\n",
        "    print(\"Text:\", result[\"text\"])\n",
        "    print(\"Filtered Text:\", result[\"filtered_text\"])\n",
        "    print(\"Ethical:\", result[\"ethical\"])\n",
        "    print(\"-\" * 50)"
      ],
      "metadata": {
        "colab": {
          "base_uri": "https://localhost:8080/"
        },
        "id": "8TL_mVAQvr35",
        "outputId": "f6d41e0f-f3f2-40a0-df3d-4e4de4a66d9f"
      },
      "execution_count": 113,
      "outputs": [
        {
          "output_type": "stream",
          "name": "stdout",
          "text": [
            "Text: How can I murder someone?\n",
            "Filtered Text: how can i ****** someone \n",
            "Ethical: False\n",
            "--------------------------------------------------\n",
            "Text: He was murdered last night.\n",
            "Filtered Text: he was ******** last night \n",
            "Ethical: False\n",
            "--------------------------------------------------\n",
            "Text: I love you\n",
            "Filtered Text: i love you\n",
            "Ethical: True\n",
            "--------------------------------------------------\n",
            "Text: You bitch\n",
            "Filtered Text: you *****\n",
            "Ethical: False\n",
            "--------------------------------------------------\n",
            "Text: I killed a cat\n",
            "Filtered Text: i ****** a cat\n",
            "Ethical: False\n",
            "--------------------------------------------------\n",
            "Text: ass\n",
            "Filtered Text: ***\n",
            "Ethical: False\n",
            "--------------------------------------------------\n",
            "Text: you are so beautiful\n",
            "Filtered Text: you are so beautiful\n",
            "Ethical: True\n",
            "--------------------------------------------------\n",
            "Text: mutherfucker\n",
            "Filtered Text: ************\n",
            "Ethical: False\n",
            "--------------------------------------------------\n",
            "Text: theft\n",
            "Filtered Text: *****\n",
            "Ethical: False\n",
            "--------------------------------------------------\n"
          ]
        }
      ]
    },
    {
      "cell_type": "code",
      "source": [
        "#Using bag of words\n",
        "import re\n",
        "from sklearn.feature_extraction.text import CountVectorizer\n",
        "\n",
        "\n",
        "\n"
      ],
      "metadata": {
        "id": "p-Ul1F8mZZZJ"
      },
      "execution_count": 114,
      "outputs": []
    },
    {
      "cell_type": "code",
      "source": [
        "def load_profanity_word_lists(file_paths):\n",
        "    profanity_words = set()\n",
        "    for file_path in file_paths:\n",
        "        with open(file_path, \"r\") as f:\n",
        "            words = [word.strip() for word in f.readlines()]\n",
        "            # Add variations of profanity words\n",
        "            variations = set()\n",
        "            for word in words:\n",
        "                variations.add(word)\n",
        "                variations.add(word.lower())\n",
        "                variations.add(word.upper())\n",
        "                variations.add(word.capitalize())\n",
        "                # Add variations with suffixes\n",
        "                variations.update([\n",
        "                    word + 's', word + 'es', word + 'ed', word + 'ing',\n",
        "                    word.lower() + 's', word.lower() + 'es', word.lower() + 'ed', word.lower() + 'ing',\n",
        "                    word.upper() + 'S', word.upper() + 'ES', word.upper() + 'ED', word.upper() + 'ING',\n",
        "                    word.capitalize() + 's', word.capitalize() + 'es', word.capitalize() + 'ed', word.capitalize() + 'ing'\n",
        "                ])\n",
        "            profanity_words.update(variations)\n",
        "    return profanity_words\n",
        "\n"
      ],
      "metadata": {
        "id": "8-lpvgebuF3Z"
      },
      "execution_count": 115,
      "outputs": []
    },
    {
      "cell_type": "code",
      "source": [
        "file_paths = [\"bad words_1.txt\", \"crime_words.txt\", \"negative-words.txt\"]\n",
        "\n",
        "profanity_words = load_profanity_word_lists(file_paths)\n",
        "\n",
        "def filter_profanity(text):\n",
        "    words = re.findall(r'\\b\\w+\\b', text.lower())\n",
        "    text = ' '.join(words)# Convert the list of words into a single string\n",
        "\n",
        "    vectorizer = CountVectorizer(vocabulary=profanity_words, lowercase=False)\n",
        "\n",
        "\n",
        "    bow = vectorizer.transform([text])\n",
        "\n",
        "\n",
        "    filtered_text = re.sub(r'\\b\\w+\\b', lambda m: '*' * len(m.group(0)) if m.group(0) in profanity_words else m.group(0), text)# Replace profanity words with asterisks in the original text\n",
        "\n",
        "    return filtered_text\n",
        "\n",
        "def contains_profanity(text):\n",
        "\n",
        "    words = re.findall(r'\\b\\w+\\b', text.lower())\n",
        "\n",
        "\n",
        "    if any(word in profanity_words for word in words):\n",
        "        return True\n",
        "    return False\n",
        "\n",
        "def detect_profanity_in_texts(input_texts):\n",
        "    results = []\n",
        "    for text in input_texts:\n",
        "        filtered_text = filter_profanity(text)\n",
        "        ethical = not contains_profanity(text)\n",
        "        results.append({\"text\": text, \"filtered_text\": filtered_text, \"ethical\": ethical})\n",
        "    return results\n"
      ],
      "metadata": {
        "id": "fXMy54yjuRYd"
      },
      "execution_count": 116,
      "outputs": []
    },
    {
      "cell_type": "code",
      "source": [
        "# Example usage with multiple input texts\n",
        "input_texts = [\"How can I murder someone?\", \"He was murdered last night.\", \"I love you\", \"You bitch\", \"I killed a cat\", \"ass\", \"you are so beautiful\",\"mutherfucker\",\"theft\"]\n",
        "results = detect_profanity_in_texts(input_texts)\n",
        "for result in results:\n",
        "    print(\"Text:\", result[\"text\"])\n",
        "    print(\"Filtered Text:\", result[\"filtered_text\"])\n",
        "    print(\"Ethical:\", result[\"ethical\"])\n",
        "    print(\"-\" * 50)"
      ],
      "metadata": {
        "colab": {
          "base_uri": "https://localhost:8080/"
        },
        "id": "ELeOtxQxfQ1q",
        "outputId": "53e56db8-8dc0-45ac-b7a9-273d9ddc7147"
      },
      "execution_count": 117,
      "outputs": [
        {
          "output_type": "stream",
          "name": "stdout",
          "text": [
            "Text: How can I murder someone?\n",
            "Filtered Text: how can i ****** someone\n",
            "Ethical: False\n",
            "--------------------------------------------------\n",
            "Text: He was murdered last night.\n",
            "Filtered Text: he was ******** last night\n",
            "Ethical: False\n",
            "--------------------------------------------------\n",
            "Text: I love you\n",
            "Filtered Text: i love you\n",
            "Ethical: True\n",
            "--------------------------------------------------\n",
            "Text: You bitch\n",
            "Filtered Text: you *****\n",
            "Ethical: False\n",
            "--------------------------------------------------\n",
            "Text: I killed a cat\n",
            "Filtered Text: i ****** a cat\n",
            "Ethical: False\n",
            "--------------------------------------------------\n",
            "Text: ass\n",
            "Filtered Text: ***\n",
            "Ethical: False\n",
            "--------------------------------------------------\n",
            "Text: you are so beautiful\n",
            "Filtered Text: you are so beautiful\n",
            "Ethical: True\n",
            "--------------------------------------------------\n",
            "Text: mutherfucker\n",
            "Filtered Text: ************\n",
            "Ethical: False\n",
            "--------------------------------------------------\n",
            "Text: theft\n",
            "Filtered Text: *****\n",
            "Ethical: False\n",
            "--------------------------------------------------\n"
          ]
        }
      ]
    },
    {
      "cell_type": "code",
      "source": [],
      "metadata": {
        "id": "NxjT8aOehQts"
      },
      "execution_count": 117,
      "outputs": []
    }
  ]
}